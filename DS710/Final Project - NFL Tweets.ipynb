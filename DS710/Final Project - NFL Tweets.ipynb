{
 "cells": [
  {
   "cell_type": "markdown",
   "metadata": {},
   "source": [
    "Matt Rock\n",
    "\n",
    "Importing the different libraries and setting up the Twitter API."
   ]
  },
  {
   "cell_type": "code",
   "execution_count": 1,
   "metadata": {},
   "outputs": [],
   "source": [
    "import tweepy\n",
    "from datetime import datetime\n",
    "import pandas as pd\n",
    "import time\n",
    "%run ~/twitter_credentials.py\n",
    "auth = tweepy.OAuthHandler(consumer_key=con_key, consumer_secret=con_secret)\n",
    "auth.set_access_token(acc_token, acc_secret)\n",
    "api = tweepy.API(auth)"
   ]
  },
  {
   "cell_type": "markdown",
   "metadata": {},
   "source": [
    "Initializing the variables to make the while loop gathering tweets work without duplicating anything. "
   ]
  },
  {
   "cell_type": "code",
   "execution_count": 2,
   "metadata": {},
   "outputs": [],
   "source": [
    "min_tweet = 99999999999999999999999999999999999\n",
    "firstpass = True"
   ]
  },
  {
   "cell_type": "markdown",
   "metadata": {},
   "source": [
    "The search terms are the most basic NFL social media engagement ones. Each team has a Twitter handle and custom hash tag that displays an emoji relating to the team. Each game also has a 'neutral' hashtag for the matchup, just saying the two teams. That's a total of 5 terms in the full search bar, which I'll use to classify my tweets and retweets. "
   ]
  },
  {
   "cell_type": "code",
   "execution_count": 3,
   "metadata": {},
   "outputs": [],
   "source": [
    "while True:\n",
    "    tweet_list = api.search(q='#%23GBvsNYG%20OR%20#%23GoPackGo%20OR%20#%23GiantsPrideOR%40packersOR%40giants', \n",
    "                            count = 100, tweet_mode = 'extended', max_id = min_tweet, result_type = 'recent')\n",
    "    min_tweet = tweet_list[-1].id_str\n",
    "    original_tweets = []\n",
    "    retweets = []\n",
    "    for tweet in tweet_list:\n",
    "        try: #Using try/catch as an if/else statement. If it's a retweet, the try executes. Else, it's a tweet.\n",
    "            retweet_dict = {'original_id': tweet.retweeted_status.id_str, 'original_tweeter': tweet.retweeted_status.user.id,\n",
    "                            'original_name': tweet.retweeted_status.user.name, 'retweet_id': tweet.id_str, \n",
    "                            'retweeter': tweet.user.id, 'retweeter_name': tweet.user.name, 'retweet_time': tweet.created_at}\n",
    "            retweets.append(retweet_dict)\n",
    "            continue\n",
    "        except:\n",
    "            pass\n",
    "        tweet_dict = {'tweet_id': tweet.id, 'text': tweet.full_text, 'tweeter': tweet.user.id, \n",
    "                      'tweeter_name': tweet.user.name, 'tweet_time': tweet.created_at}\n",
    "        original_tweets.append(tweet_dict)\n",
    "\n",
    "    if firstpass:\n",
    "        dftweets = pd.DataFrame(original_tweets)\n",
    "        dfretweets = pd.DataFrame(retweets)\n",
    "        firstpass = False\n",
    "    else:\n",
    "        dftweets = dftweets.append(pd.DataFrame(original_tweets), ignore_index=True)\n",
    "        dfretweets = dfretweets.append(pd.DataFrame(retweets), ignore_index=True)\n",
    "    time.sleep(45) #make sure I can actually scrape tweets and avoid usage limits. I got time.\n",
    "    if dftweets['tweet_time'].min() < datetime.strptime('2019-12-01T16::00', '%Y-%m-%dT%H::%M'):\n",
    "        break\n",
    "\n",
    "#Removing duplicates and exporting when all the tweets are gathered.\n",
    "dftweets.drop_duplicates(inplace = True)\n",
    "dfretweets.drop_duplicates(inplace = True)\n",
    "dftweets.to_csv('packersgiantstweets.csv',index=False)\n",
    "dfretweets.to_csv('packersgiantsretweets.csv',index=False)"
   ]
  }
 ],
 "metadata": {
  "kernelspec": {
   "display_name": "Python 3",
   "language": "python",
   "name": "python3"
  },
  "language_info": {
   "codemirror_mode": {
    "name": "ipython",
    "version": 3
   },
   "file_extension": ".py",
   "mimetype": "text/x-python",
   "name": "python",
   "nbconvert_exporter": "python",
   "pygments_lexer": "ipython3",
   "version": "3.7.3"
  }
 },
 "nbformat": 4,
 "nbformat_minor": 2
}
