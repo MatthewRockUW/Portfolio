{
 "cells": [
  {
   "cell_type": "markdown",
   "metadata": {},
   "source": [
    "## Project 3 Report - Scheduling and Decision Analysis with Uncertainty\n",
    "\n",
    "For the final project, we're going to combine concepts from Lesson 7 (Constraint Programming), Lesson 8 (Simulation), and Lesson 9 (Decision Analysis). We'll do this by revisiting the scheduling problem from Lesson 7. But, we're going to make it a little more true-to-life by acknowledging some of the uncertainty in our estimates, and using simulation to help us come up with better estimates. We'll use our estimated profits to construct a payoff table and make a decision about how to proceed with the building project.\n",
    "\n",
    "When we originally created the problem, we used the following estimates for time that each task would take:\n",
    "\n",
    "<img src='images/reliable_table.png' width=\"450\"/>\n",
    "\n",
    "But based on past experience, we know that these are just the most likely estimates of the time needed for each task. Here's our estimated ranges of values (in days instead of weeks) for each task:\n",
    "\n",
    "<img src='images/reliable-estimate-ranges.png' width=\"450\"/>"
   ]
  },
  {
   "cell_type": "code",
   "execution_count": 0,
   "metadata": {},
   "outputs": [],
   "source": []
  },
  {
   "cell_type": "markdown",
   "metadata": {},
   "source": [
    "Further, we're going to consider the following factors:\n",
    "\n",
    "* The base amount that Reliable will earn is \\$5.4 million.\n",
    "* If Reliable completes the project in 280 days or less, they will get a bonus of \\$150,000.\n",
    "* If Reliable misses the deadline of 329 days, there will be a \\$25,000 penalty for each day over 329."
   ]
  },
  {
   "cell_type": "markdown",
   "metadata": {},
   "source": [
    "### **P3.1** - Simulation\n",
    "\n",
    "Create a simulation that uses a triangular distribution to estimate the duration for each of the activities. Use the Optimistic Estimate, Most Likely Estimate, and Pessimistic Estimate for the 3 parameters of your triangular distribution.   Use CP-SAT to find the minimal schedule length in each iteration.  Track the total days each simulation takes and the profit for the company.\n",
    "\n",
    "Put your simulation code in the cell below.  Use at least 1000 iterations.  Check your simulation results to make sure the tasks are being executed in the correct order!\n",
    "\n",
    "<font color = \"blue\"> *** 8 points -  answer in cell below *** (don't delete this cell) </font>"
   ]
  },
  {
   "cell_type": "code",
   "execution_count": 60,
   "metadata": {},
   "outputs": [],
   "source": [
    "from ortools.sat.python import cp_model\n",
    "import numpy as np\n",
    "import math\n",
    "\n",
    "class VarArraySolutionPrinter(cp_model.CpSolverSolutionCallback):\n",
    "    \"\"\"Print intermediate solutions.\"\"\"\n",
    "\n",
    "    def __init__(self, variables):\n",
    "        cp_model.CpSolverSolutionCallback.__init__(self)\n",
    "        self.__variables = variables\n",
    "        self.__solution_count = 0\n",
    "\n",
    "    def on_solution_callback(self):\n",
    "        self.__solution_count += 1\n",
    "        for v in self.__variables:\n",
    "            print(f'{v} = {self.Value(v)}', end = ' ')\n",
    "        print()\n",
    "\n",
    "    def solution_count(self):\n",
    "        return self.__solution_count\n",
    "\n",
    "#using an artifact parameter to reuse code as much as possible\n",
    "def worktimes(artifacts = 0):\n",
    "    newworktimes = [\n",
    "        math.ceil(np.random.triangular(7,14,21 )),\n",
    "        math.ceil(np.random.triangular(14,21,56 )),\n",
    "        math.ceil(np.random.triangular(42,63,126 )),\n",
    "        math.ceil(np.random.triangular(28,35,70 )),\n",
    "        math.ceil(np.random.triangular(7,28,35 )),\n",
    "        math.ceil(np.random.triangular(28,35,70 )),\n",
    "        math.ceil(np.random.triangular(35, 42, 77 )),\n",
    "        math.ceil(np.random.triangular(35, 56, 119 )),\n",
    "        math.ceil(np.random.triangular(21, 49, 63 )),\n",
    "        math.ceil(np.random.triangular(21, 63, 63 )),\n",
    "        math.ceil(np.random.triangular(21, 28, 28 )),\n",
    "        math.ceil(np.random.triangular(7, 35, 49 )),\n",
    "        math.ceil(np.random.triangular(7, 14, 21 )),\n",
    "        math.ceil(np.random.triangular(35, 35, 63 ))  \n",
    "    ]\n",
    "    \n",
    "    newworktimes[0] += artifacts\n",
    "    \n",
    "    return newworktimes"
   ]
  },
  {
   "cell_type": "code",
   "execution_count": 61,
   "metadata": {},
   "outputs": [],
   "source": [
    "#using an artifact parameter to reuse code as much as possible\n",
    "def buildahouse(artifacts = 0):\n",
    "    tasklist = [chr(i+65) for i in range(14)]\n",
    "\n",
    "    tasklength = worktimes(artifacts)\n",
    "\n",
    "    taskdict = dict(zip(tasklist, tasklength))\n",
    "\n",
    "    #task_names = list(task_duration_dict.keys())\n",
    "    num_tasks = len(tasklist)\n",
    "\n",
    "    # for each task we have a list of tasks that must go after\n",
    "    # task:['these','tasks','after']\n",
    "    precedence_dict = {\n",
    "        'A': ['B'],\n",
    "        'B': ['C'],\n",
    "        'C': ['D', 'E', 'I'],\n",
    "        'D': ['G'],\n",
    "        'E': ['F', 'H'],\n",
    "        'F': ['J'],\n",
    "        'G': ['H'],\n",
    "        'H': ['M'],\n",
    "        'I': ['J'],\n",
    "        'J': ['K', 'L'],\n",
    "        'K': ['N'],\n",
    "        'L': ['N'],\n",
    "    }\n",
    "\n",
    "    task_name_to_number_dict = dict(zip(tasklist, np.arange(0, num_tasks)))\n",
    "\n",
    "    horizon = sum(tasklength)\n",
    "\n",
    "    model = cp_model.CpModel()\n",
    "\n",
    "    start_vars = [model.NewIntVar(0, horizon, name=f'start_{t}') for t in tasklist]\n",
    "    end_vars = [model.NewIntVar(0, horizon, name=f'end_{t}') for t in tasklist]\n",
    "\n",
    "    intervals = [\n",
    "        model.NewIntervalVar(start_vars[i],\n",
    "                             tasklength[i],\n",
    "                             end_vars[i],\n",
    "                             name=f'interval_{tasklist[i]}')\n",
    "        for i in range(num_tasks)\n",
    "    ]\n",
    "\n",
    "    for before in list(precedence_dict.keys()):\n",
    "        for after in precedence_dict[before]:\n",
    "            before_index = task_name_to_number_dict[before]\n",
    "            after_index = task_name_to_number_dict[after]\n",
    "            model.Add(end_vars[before_index] <= start_vars[after_index])\n",
    "\n",
    "    obj_var = model.NewIntVar(0, horizon, 'largest_end_time')\n",
    "    model.AddMaxEquality(obj_var, end_vars)\n",
    "    model.Minimize(obj_var)\n",
    "\n",
    "    solver = cp_model.CpSolver()\n",
    "    status = solver.Solve(model)\n",
    "\n",
    "    return(solver.ObjectiveValue())\n"
   ]
  },
  {
   "cell_type": "code",
   "execution_count": 62,
   "metadata": {},
   "outputs": [],
   "source": [
    "houseresults = []\n",
    "houseearnings = []\n",
    "for i in range(1000):\n",
    "    thishousetime = buildahouse()\n",
    "    houseresults.append(thishousetime)\n",
    "    thishouseearnings = 5400000 - max(0, thishousetime - 329) * 25000\n",
    "    if thishousetime <= 280:\n",
    "        thishouseearnings += 150000\n",
    "    houseearnings.append(thishouseearnings)\n"
   ]
  },
  {
   "cell_type": "markdown",
   "metadata": {},
   "source": [
    "What is the probability that Reliable Company will finish the bid in 280 days or fewer, more than 280 and 329 days or fewer, or more than 329 days? What is their average profit?\n",
    "\n",
    "Include code to answer these questions with output below:\n",
    "\n",
    "<font color = \"blue\"> *** 2 points -  answer in cell below *** (don't delete this cell) </font>"
   ]
  },
  {
   "cell_type": "code",
   "execution_count": 50,
   "metadata": {},
   "outputs": [
    {
     "name": "stdout",
     "output_type": "stream",
     "text": [
      "There were 44 simulated projects finished in 280 days or fewer, 574 simulated projects finished in 281 to 328 days, and 382 took at least 329 days.\n",
      "The average earnings is $5220625\n"
     ]
    }
   ],
   "source": [
    "quick = 0\n",
    "average = 0\n",
    "slow = 0\n",
    "\n",
    "for x in houseresults:\n",
    "    if x <= 280:\n",
    "        quick += 1\n",
    "    elif x >= 329:\n",
    "        slow += 1\n",
    "    else:\n",
    "        average += 1\n",
    "print(f\"There were {quick} simulated projects finished in 280 days or fewer, {average} simulated projects finished in 281 to 328 days, and {slow} took at least 329 days.\" )\n",
    "print(f\"The average earnings is ${round(sum(houseearnings)/len(houseearnings))}\")\n"
   ]
  },
  {
   "cell_type": "markdown",
   "metadata": {},
   "source": [
    "### **P3.2** - Add Random Cost\n",
    "From past experience, we know that special artifacts are sometimes found in the area where Reliable Construction is planning this building project.  When special artifacts are found, the excavation phase takes considerably longer and the entire project costs more - sometimes much more. They're never quite sure how much longer it will take, but it peaks around an extra 15 days, and takes at least an extra 7 days. They've seen some sites where relocating the special artifacts took as much as 365 extra days (yes - a whole year)! \n",
    "\n",
    "In addition, there are usually unanticipated costs that include fines and other things.  The accounting departments suggest that we model those costs with an exponential distribution with mean (scale) \\$100,000.\n",
    "\n",
    "\n",
    "Run a second simulation with these new parameters and using at least 1000 iterations.  Note, we are assuming that artifacts were found for this simulation.\n",
    "\n",
    "Put your simulation code in the cell below.\n",
    "\n",
    "<font color = \"blue\"> *** 8 points -  answer in cell below *** (don't delete this cell) </font>"
   ]
  },
  {
   "cell_type": "code",
   "execution_count": 65,
   "metadata": {},
   "outputs": [],
   "source": [
    "#using the artifact parameter now!\n",
    "houseresultsart = []\n",
    "houseearningsart = []\n",
    "for i in range(1000):\n",
    "    artifacttime = math.ceil(np.random.triangular(7,15,365))\n",
    "    thishousetime = buildahouse(artifacttime)\n",
    "    houseresultsart.append(thishousetime)\n",
    "    thishouseearnings = 5400000 - max(0, thishousetime - 329) * 25000 - np.random.exponential(100000)\n",
    "    if thishousetime <= 280:\n",
    "        thishouseearnings += 150000\n",
    "    houseearningsart.append(thishouseearnings)\n"
   ]
  },
  {
   "cell_type": "markdown",
   "metadata": {},
   "source": [
    "When artifacts are found, what is the probability that Reliable Company will finish the bid in 280 days or fewer, more than 280 and 329 days or fewer, or more than 329 days? What is their average profit?\n",
    "\n",
    "Include code to answer these questions with output below:\n",
    "\n",
    "<font color = \"blue\"> *** 2 points -  answer in cell below *** (don't delete this cell) </font>"
   ]
  },
  {
   "cell_type": "code",
   "execution_count": 64,
   "metadata": {},
   "outputs": [
    {
     "name": "stdout",
     "output_type": "stream",
     "text": [
      "There were 1 simulated projects finished in 280 days or fewer, 38 simulated projects finished in 281 to 328 days, and 961 took at least 329 days.\n",
      "The average earnings is $2171434\n"
     ]
    }
   ],
   "source": [
    "quickart = 0\n",
    "averageart = 0\n",
    "slowart = 0\n",
    "\n",
    "for x in houseresultsart:\n",
    "    if x <= 280:\n",
    "        quickart += 1\n",
    "    elif x >= 329:\n",
    "        slowart += 1\n",
    "    else:\n",
    "        averageart += 1\n",
    "print(f\"There were {quickart} simulated projects finished in 280 days or fewer, {averageart} simulated projects finished in 281 to 328 days, and {slowart} took at least 329 days.\" )\n",
    "print(f\"The average earnings is ${round(sum(houseearningsart)/len(houseearningsart))}\")"
   ]
  },
  {
   "cell_type": "markdown",
   "metadata": {},
   "source": [
    "### **P3.3** - Make Decision about Insurance\n",
    "\n",
    "Clearly dealing with artifacts can be very costly for Reliable Construction.  It is known from past experience that about 30% of building sites in this area contain special artifacts.  Fortunately, they can purchase an insurance policy - a quite expensive insurance policy. The insurance policy costs \\$500000, but it covers all fines and penalities for delays in the event that special artifacts are found that require remediation. Effectively, this means that Reliable could expect the same profit they would get if no artifacts were found (minus the cost of the policy).\n",
    "\n",
    "Given the estimated profit without artifacts, the estimated profit with artifacts, the cost of insurance, the 30% likelihood of finding artifacts, create a payoff table and use Baye's Decision Rule to determine what decision Reliable should make.  You should round the simulated profits to the nearest \\$100,000 and use units of millions of dollars so that, for example, \\$8,675,309 is 8.7 million dollars.\n",
    "\n",
    "Provide appropriate evidence for the best decision such as a payoff table or picture of a suitable (small) decision tree.\n",
    "\n",
    "<font color = \"blue\"> *** 6 points -  answer in cell below *** (don't delete this cell) </font>"
   ]
  },
  {
   "cell_type": "markdown",
   "metadata": {},
   "source": [
    "<img src='p33decisions.png'>"
   ]
  },
  {
   "cell_type": "markdown",
   "metadata": {},
   "source": [
    "Describe, in words, the best decision and the reason for that decision:\n",
    "\n",
    "<font color = \"blue\"> *** 2 points -  answer in cell below *** (don't delete this cell) </font>"
   ]
  },
  {
   "cell_type": "markdown",
   "metadata": {},
   "source": [
    "<font color = \"green\">\n",
    "Always buy insurance. The possible loss of $3 million occurs often enough that losing 1/6th that amount every time is the safer bet.\n",
    "</font>"
   ]
  },
  {
   "cell_type": "markdown",
   "metadata": {},
   "source": [
    "### **P3.4** - Posterior Probabilities\n",
    "Reliable has been contacted by an archeological consulting firm. They assess sites and predict whether special artifacts are present. They have a pretty solid track record of being right when there are artifacts present - they get it right about 86% of the time. Their track record is less great when there are no artifacts - they're right about 72% of the time.\n",
    "\n",
    "First find the posterior probabilities and provide evidence for how you got them (Silver Decisions screenshot or ?).\n",
    "\n",
    "<font color = \"blue\"> *** 6 points -  answer in cell below *** (don't delete this cell) </font>"
   ]
  },
  {
   "cell_type": "markdown",
   "metadata": {},
   "source": [
    "<img src='p34a.png'>"
   ]
  },
  {
   "cell_type": "markdown",
   "metadata": {},
   "source": [
    "The consulting fee for the site in question is \\$50,000. \n",
    "\n",
    "Construct a decision tree to help Reliable decide if they should hire the consulting firm or not and if they should buy insurance or not.  Again, you should round the simulated profits to the nearest $100,000 and use units of millions of dollars (e.g. 3.8 million dollars) in your decision tree.\n",
    "\n",
    "Include a picture of the tree exported from Silver Decisions.\n",
    "\n",
    "<font color = \"blue\"> *** 10 points -  answer in cell below *** (don't delete this cell) </font>"
   ]
  },
  {
   "cell_type": "markdown",
   "metadata": {},
   "source": [
    "<img src='finaltree.png'>"
   ]
  },
  {
   "cell_type": "markdown",
   "metadata": {},
   "source": [
    "Summarize the optimal policy in words here:\n",
    "\n",
    "<font color = \"blue\"> *** 2 points -  answer in cell below *** (don't delete this cell) </font>"
   ]
  },
  {
   "cell_type": "markdown",
   "metadata": {},
   "source": [
    "<font color = \"green\">\n",
    "Always consult the archeology firm. If they detect an artifact, buy insurance. If not, don't.  \n",
    "</font>"
   ]
  },
  {
   "cell_type": "markdown",
   "metadata": {},
   "source": [
    "### **P3.5** - Final Steps\n",
    "\n",
    "How confident do you feel about the results of your decision analysis? If you were being paid to complete this analysis, what further steps might you take to increase your confidence in your results?\n",
    "\n",
    "<font color = \"blue\"> *** 4 points -  answer in cell below *** (don't delete this cell) </font>"
   ]
  },
  {
   "cell_type": "markdown",
   "metadata": {},
   "source": [
    "<font color = \"green\">\n",
    "I'm fairly confident in these results. In order to improve the analysis, I'd preform sensitivity analysis on the different odds of finding an artifact to see how the decision changes. I'd also want to take a closer look at the building tasks and see if there's ways to improve some of the task scheduling by seeing if one particular task is a holdup for the entire project often. \n",
    "</font>"
   ]
  },
  {
   "cell_type": "code",
   "execution_count": null,
   "metadata": {},
   "outputs": [],
   "source": []
  }
 ],
 "metadata": {
  "kernelspec": {
   "display_name": "Python 3",
   "language": "python",
   "name": "python3"
  },
  "language_info": {
   "codemirror_mode": {
    "name": "ipython",
    "version": 3
   },
   "file_extension": ".py",
   "mimetype": "text/x-python",
   "name": "python",
   "nbconvert_exporter": "python",
   "pygments_lexer": "ipython3",
   "version": "3.7.3"
  },
  "toc": {
   "base_numbering": 1,
   "nav_menu": {},
   "number_sections": true,
   "sideBar": true,
   "skip_h1_title": false,
   "title_cell": "Table of Contents",
   "title_sidebar": "Contents",
   "toc_cell": false,
   "toc_position": {},
   "toc_section_display": true,
   "toc_window_display": false
  },
  "varInspector": {
   "cols": {
    "lenName": 16,
    "lenType": 16,
    "lenVar": 40
   },
   "kernels_config": {
    "python": {
     "delete_cmd_postfix": "",
     "delete_cmd_prefix": "del ",
     "library": "var_list.py",
     "varRefreshCmd": "print(var_dic_list())"
    },
    "r": {
     "delete_cmd_postfix": ") ",
     "delete_cmd_prefix": "rm(",
     "library": "var_list.r",
     "varRefreshCmd": "cat(var_dic_list()) "
    }
   },
   "types_to_exclude": [
    "module",
    "function",
    "builtin_function_or_method",
    "instance",
    "_Feature"
   ],
   "window_display": false
  }
 },
 "nbformat": 4,
 "nbformat_minor": 4
}
